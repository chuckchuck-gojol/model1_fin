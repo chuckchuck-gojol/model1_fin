{
 "cells": [
  {
   "cell_type": "markdown",
   "metadata": {},
   "source": [
    "# 모델 1 - 기능 1, 2, 3에 대해 처리 가능한 모델1 작성 (1)\n",
    "#### ver 3.3,,,\n",
    "#### 모델 1은 기능 3의 지하철 트리거까지 포함하는 모델임.\n",
    "#### 모델 2는 모델 1에서 기능 3 지하철 트리거 인식 시 작동되는 모델임\n",
    "#### 최종 수정일 : 20-05-25"
   ]
  },
  {
   "cell_type": "markdown",
   "metadata": {},
   "source": [
    "## .npz 합치기"
   ]
  },
  {
   "cell_type": "markdown",
   "metadata": {},
   "source": [
    "* * *\n",
    "## 1. 데이터 전처리\n",
    "### 1.2 피처 병합 및 데이터 npz로 가공\n",
    "\n",
    "> [변경사항]\n",
    "- 자동차 경적 소리와 엔진 소리를 구분\n",
    "- 다양한 차량 소리에 대해 데이터 셋 더욱 세분화\n",
    "* * *\n",
    "> [기존과 동일]\n",
    "- 파일 열람 쉽도록 npz로 가공\n",
    "- 0.npz : 사이렌 등 알림음 (기능1)\n",
    "- 1.npz : 자동차 경적소리 (기능2)\n",
    "- 2.npz : 자동차 엔진소리 (기능2)\n",
    "- 3.npz : 지하철 트리거 (기능3) "
   ]
  },
  {
   "cell_type": "code",
   "execution_count": 3,
   "metadata": {},
   "outputs": [],
   "source": [
    "import numpy as np\n",
    "import pandas as pd \n",
    "import glob\n",
    "import librosa"
   ]
  },
  {
   "cell_type": "code",
   "execution_count": 4,
   "metadata": {},
   "outputs": [],
   "source": [
    "X = np.empty((0, 193))\n",
    "y = np.empty((0, 1))"
   ]
  },
  {
   "cell_type": "code",
   "execution_count": 5,
   "metadata": {},
   "outputs": [],
   "source": [
    "npz_files = glob.glob('?.npz')"
   ]
  },
  {
   "cell_type": "code",
   "execution_count": 6,
   "metadata": {},
   "outputs": [
    {
     "name": "stdout",
     "output_type": "stream",
     "text": [
      "0.npz\n",
      "1.npz\n",
      "2.npz\n",
      "3.npz\n"
     ]
    }
   ],
   "source": [
    "for fn in npz_files:\n",
    "    print(fn)\n",
    "    model_1 = np.load(fn)\n",
    "    X = np.append(X, model_1['X'], axis=0)\n",
    "    y = np.append(y, model_1['y'], axis=0)"
   ]
  },
  {
   "cell_type": "code",
   "execution_count": 7,
   "metadata": {},
   "outputs": [
    {
     "name": "stdout",
     "output_type": "stream",
     "text": [
      "(3497, 193) (3497, 1)\n"
     ]
    }
   ],
   "source": [
    "print(X.shape, y.shape)\n",
    "np.savez('model_1', X=X, y=y)"
   ]
  }
 ],
 "metadata": {
  "kernelspec": {
   "display_name": "Python 3",
   "language": "python",
   "name": "python3"
  },
  "language_info": {
   "codemirror_mode": {
    "name": "ipython",
    "version": 3
   },
   "file_extension": ".py",
   "mimetype": "text/x-python",
   "name": "python",
   "nbconvert_exporter": "python",
   "pygments_lexer": "ipython3",
   "version": "3.7.4"
  }
 },
 "nbformat": 4,
 "nbformat_minor": 2
}
